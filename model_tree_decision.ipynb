{
 "cells": [
  {
   "cell_type": "markdown",
   "metadata": {},
   "source": [
    "# teste de modelo com arvóre de decisão"
   ]
  },
  {
   "cell_type": "code",
   "execution_count": null,
   "metadata": {},
   "outputs": [],
   "source": [
    "import pandas as pd\n",
    "from sklearn.tree import DecisionTreeClassifier\n",
    "from sklearn.preprocessing import LabelEncoder\n",
    "from sklearn.model_selection import train_test_split"
   ]
  },
  {
   "cell_type": "markdown",
   "metadata": {},
   "source": [
    "## passo a passo\n",
    "\n",
    " - Verificar existência de dados nulos\n",
    " - Avaliar se existem colunas que podem ser removidas\n",
    " - Identificar as variáveis categoricas e as alvo.\n",
    " - Codificar as colunas cartegoricas passiveis de codificação"
   ]
  },
  {
   "cell_type": "code",
   "execution_count": 26,
   "metadata": {},
   "outputs": [],
   "source": [
    "df = pd.read_csv(r'/home/lipe/projetos/case-Fm2c/data/TurnOver_Analise.csv', sep=';')"
   ]
  },
  {
   "cell_type": "code",
   "execution_count": 27,
   "metadata": {},
   "outputs": [
    {
     "name": "stdout",
     "output_type": "stream",
     "text": [
      "<class 'pandas.core.frame.DataFrame'>\n",
      "RangeIndex: 19671 entries, 0 to 19670\n",
      "Data columns (total 15 columns):\n",
      " #   Column            Non-Null Count  Dtype \n",
      "---  ------            --------------  ----- \n",
      " 0   Cargo             19671 non-null  object\n",
      " 1   GRUPO EMPRESA     19671 non-null  object\n",
      " 2   Matricula         19671 non-null  object\n",
      " 3   Idade             19671 non-null  int64 \n",
      " 4   Estado            19671 non-null  object\n",
      " 5   Classif. Salário  19671 non-null  object\n",
      " 6   Situação          19671 non-null  object\n",
      " 7   Tempo de Empresa  19671 non-null  object\n",
      " 8   Vale Aliment.     19671 non-null  object\n",
      " 9   Vale Refei.       19671 non-null  object\n",
      " 10  Vale Transp.      19671 non-null  object\n",
      " 11  Qtd. Dependentes  19671 non-null  object\n",
      " 12  Conv. Médico      19671 non-null  object\n",
      " 13  Conv. Odonto      19671 non-null  object\n",
      " 14  Qtd. Promoções    19671 non-null  object\n",
      "dtypes: int64(1), object(14)\n",
      "memory usage: 2.3+ MB\n"
     ]
    }
   ],
   "source": [
    "df.info()"
   ]
  },
  {
   "cell_type": "code",
   "execution_count": null,
   "metadata": {},
   "outputs": [],
   "source": [
    "# Removendo coluna Matricula\n",
    "df.drop(columns='Matricula', inplace=True)"
   ]
  },
  {
   "cell_type": "code",
   "execution_count": 29,
   "metadata": {},
   "outputs": [],
   "source": [
    "'''\n",
    "Coluna Situação = variável alvo\n",
    "Realizar remapeamento dos valores da coluna, Ativos = 1 e Desligados = 2\n",
    "'''\n",
    "\n",
    "df.Situação = df.Situação.map({'Ativos': 1, 'Desligados': 0})"
   ]
  },
  {
   "cell_type": "code",
   "execution_count": 30,
   "metadata": {},
   "outputs": [],
   "source": [
    "'''\n",
    "Colunas Vale(Alimentação, refeição, transporte)\n",
    "Colunas Qtd(Dependentes, promoções)\n",
    "Colunas Conv(Médico, Odonto)\n",
    "\n",
    "Serão tranformados em inteiros. Apenas a coluna Qtd de dependentes vai representar a quantidade real de dependentes do colaborador\n",
    "As outras os valores 1 correspondem a Tem aquele benefício e 0 como Não tem o benefício\n",
    "'''\n",
    "\n",
    "\n",
    "df['Vale Aliment.'] = df['Vale Aliment.'].str.replace(',','.')\n",
    "df['Vale Refei.'] = df['Vale Refei.'].str.replace(',','.')\n",
    "df['Vale Transp.'] = df['Vale Transp.'].str.replace(',','.')\n",
    "df['Qtd. Dependentes'] = df['Qtd. Dependentes'].str.replace(',','.')\n",
    "df['Conv. Médico'] = df['Conv. Médico'].str.replace(',','.')\n",
    "df['Conv. Odonto'] = df['Conv. Odonto'].str.replace(',','.')\n",
    "df['Qtd. Promoções'] = df['Qtd. Promoções'].str.replace(',','.')\n",
    "\n",
    "df['Vale Aliment.'] = df['Vale Aliment.'].astype(float)\n",
    "df['Vale Refei.'] = df['Vale Refei.'].astype(float)\n",
    "df['Vale Transp.'] = df['Vale Transp.'].astype(float)\n",
    "df['Qtd. Dependentes'] = df['Qtd. Dependentes'].astype(float)\n",
    "df['Conv. Médico'] = df['Conv. Médico'].astype(float)\n",
    "df['Conv. Odonto'] = df['Conv. Odonto'].astype(float)\n",
    "df['Qtd. Promoções'] = df['Qtd. Promoções'].astype(float)\n",
    "\n",
    "df['Vale Aliment.'] = df['Vale Aliment.'].astype(int)\n",
    "df['Vale Refei.'] = df['Vale Refei.'].astype(int)\n",
    "df['Vale Transp.'] = df['Vale Transp.'].astype(int)\n",
    "df['Qtd. Dependentes'] = df['Qtd. Dependentes'].astype(int)\n",
    "df['Conv. Médico'] = df['Conv. Médico'].astype(int)\n",
    "df['Conv. Odonto'] = df['Conv. Odonto'].astype(int)\n",
    "df['Qtd. Promoções'] = df['Qtd. Promoções'].astype(int)"
   ]
  },
  {
   "cell_type": "code",
   "execution_count": 31,
   "metadata": {},
   "outputs": [],
   "source": [
    "''' \n",
    "tratamento de colunas que possume dados em formato string, limitados até três tipos de dados diferentes\n",
    "Colunas Grupo empresa e classif Salário\n",
    "'''\n",
    "\n",
    "df['GRUPO EMPRESA'] = df['GRUPO EMPRESA'].map({'EMPRESA A': 0, 'EMPRESA B': 1, 'EMPRESA C': 2})\n",
    "df['Classif. Salário'] = df['Classif. Salário'].map({'Baixo': 0, 'Médio': 1, 'Alto': 2})\n"
   ]
  },
  {
   "cell_type": "code",
   "execution_count": 45,
   "metadata": {},
   "outputs": [],
   "source": [
    "\n",
    "'''\n",
    "Transformar o restante das colunas que tem mais de 3 tipos de dados (Cargo, Estado)\n",
    "Verificar a existência de dados nulos anso de aplicar o encoder\n",
    "'''\n",
    "encoder = LabelEncoder()\n",
    "\n",
    "#df['Cargo'] = df['Cargo'].str.strip()\n",
    "\n",
    "df['Cargo'] = encoder.fit_transform(df['Cargo'])\n",
    "df['Estado'] = encoder.fit_transform(df['Estado'])\n"
   ]
  },
  {
   "cell_type": "code",
   "execution_count": null,
   "metadata": {},
   "outputs": [],
   "source": [
    "'''\n",
    "Separar variável alvo das categóricas\n",
    "'''\n",
    "x = df[['Cargo', 'GRUPO EMPRESA', 'Idade', 'Estado', 'Classif. Salário', 'Tempo de Empresa', 'Vale Aliment.', 'Vale Refei.', 'Vale Transp.', 'Qtd. Dependentes', 'Conv. Médico', 'Conv. Odonto', 'Qtd. Promoções']]\n",
    "y = df.Situação\n",
    "\n"
   ]
  }
 ],
 "metadata": {
  "kernelspec": {
   "display_name": "fm2c",
   "language": "python",
   "name": "python3"
  },
  "language_info": {
   "codemirror_mode": {
    "name": "ipython",
    "version": 3
   },
   "file_extension": ".py",
   "mimetype": "text/x-python",
   "name": "python",
   "nbconvert_exporter": "python",
   "pygments_lexer": "ipython3",
   "version": "3.12.0"
  }
 },
 "nbformat": 4,
 "nbformat_minor": 2
}
