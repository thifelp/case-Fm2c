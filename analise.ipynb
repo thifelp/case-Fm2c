{
 "cells": [
  {
   "cell_type": "code",
   "execution_count": 14,
   "metadata": {},
   "outputs": [],
   "source": [
    "import pandas as pd\n",
    "import matplotlib.pyplot as plt\n",
    "import numpy as np\n",
    "from statistics import stdev"
   ]
  },
  {
   "cell_type": "code",
   "execution_count": 26,
   "metadata": {},
   "outputs": [],
   "source": [
    "df = pd.read_csv('Análise_predição_ativos.csv', sep=',')"
   ]
  },
  {
   "cell_type": "code",
   "execution_count": 28,
   "metadata": {},
   "outputs": [
    {
     "data": {
      "text/plain": [
       "Predição\n",
       "Não sera desligado    4675\n",
       "Será desligado         356\n",
       "Name: count, dtype: int64"
      ]
     },
     "execution_count": 28,
     "metadata": {},
     "output_type": "execute_result"
    }
   ],
   "source": [
    "df['Predição'].value_counts()"
   ]
  },
  {
   "cell_type": "code",
   "execution_count": 17,
   "metadata": {},
   "outputs": [],
   "source": [
    "df['Tempo de Empresa'] = df['Tempo de Empresa'].str.replace(',','.')\n",
    "df['Tempo de Empresa'] = df['Tempo de Empresa'].astype(float)"
   ]
  },
  {
   "cell_type": "code",
   "execution_count": 18,
   "metadata": {},
   "outputs": [
    {
     "data": {
      "text/plain": [
       "Classif. Salário\n",
       "Alto     4121\n",
       "Médio     691\n",
       "Baixo     219\n",
       "Name: count, dtype: int64"
      ]
     },
     "execution_count": 18,
     "metadata": {},
     "output_type": "execute_result"
    }
   ],
   "source": [
    "df['Classif. Salário'].value_counts()"
   ]
  },
  {
   "cell_type": "code",
   "execution_count": 19,
   "metadata": {},
   "outputs": [
    {
     "data": {
      "text/plain": [
       "Qtd. Dependentes\n",
       "0,0    2499\n",
       "1,0    1188\n",
       "2,0     806\n",
       "3,0     408\n",
       "4,0     115\n",
       "5,0      14\n",
       "6,0       1\n",
       "Name: count, dtype: int64"
      ]
     },
     "execution_count": 19,
     "metadata": {},
     "output_type": "execute_result"
    }
   ],
   "source": [
    "df['Qtd. Dependentes'].value_counts()"
   ]
  },
  {
   "cell_type": "code",
   "execution_count": 20,
   "metadata": {},
   "outputs": [
    {
     "data": {
      "text/plain": [
       "Idade\n",
       "32    167\n",
       "39    165\n",
       "37    165\n",
       "34    165\n",
       "36    163\n",
       "28    159\n",
       "33    158\n",
       "26    154\n",
       "29    153\n",
       "43    148\n",
       "31    146\n",
       "41    145\n",
       "35    143\n",
       "45    140\n",
       "42    140\n",
       "24    134\n",
       "27    134\n",
       "44    132\n",
       "38    130\n",
       "30    129\n",
       "25    127\n",
       "40    121\n",
       "23    115\n",
       "49    109\n",
       "46    109\n",
       "22     98\n",
       "50     98\n",
       "47     95\n",
       "48     92\n",
       "51     89\n",
       "21     88\n",
       "54     85\n",
       "52     79\n",
       "53     78\n",
       "56     76\n",
       "55     75\n",
       "20     73\n",
       "57     67\n",
       "58     61\n",
       "59     59\n",
       "19     54\n",
       "60     51\n",
       "61     41\n",
       "18     26\n",
       "63     21\n",
       "62     19\n",
       "64     16\n",
       "65     11\n",
       "66      7\n",
       "67      6\n",
       "68      6\n",
       "69      6\n",
       "70      1\n",
       "71      1\n",
       "73      1\n",
       "Name: count, dtype: int64"
      ]
     },
     "execution_count": 20,
     "metadata": {},
     "output_type": "execute_result"
    }
   ],
   "source": [
    "df['Idade'].value_counts()"
   ]
  },
  {
   "cell_type": "code",
   "execution_count": 21,
   "metadata": {},
   "outputs": [],
   "source": [
    "\n",
    "df_contratação_ideial = df.groupby('Cargo')[['Idade']].mean().reset_index()\n",
    "#df_filter_cargo = df[['Cargo', 'Idade']].groupby()\n",
    "\n",
    "df_contratação_ideial['Idade'] = df_contratação_ideial['Idade'].astype(int)\n",
    "\n",
    "df_contratação_ideial.to_excel('Contratação ideal.xlsx')\n"
   ]
  },
  {
   "cell_type": "code",
   "execution_count": 22,
   "metadata": {},
   "outputs": [
    {
     "data": {
      "text/html": [
       "<div>\n",
       "<style scoped>\n",
       "    .dataframe tbody tr th:only-of-type {\n",
       "        vertical-align: middle;\n",
       "    }\n",
       "\n",
       "    .dataframe tbody tr th {\n",
       "        vertical-align: top;\n",
       "    }\n",
       "\n",
       "    .dataframe thead th {\n",
       "        text-align: right;\n",
       "    }\n",
       "</style>\n",
       "<table border=\"1\" class=\"dataframe\">\n",
       "  <thead>\n",
       "    <tr style=\"text-align: right;\">\n",
       "      <th></th>\n",
       "      <th>Cargo</th>\n",
       "      <th>Idade</th>\n",
       "    </tr>\n",
       "  </thead>\n",
       "  <tbody>\n",
       "    <tr>\n",
       "      <th>0</th>\n",
       "      <td>1/2 OF DE MANUTENCAO</td>\n",
       "      <td>38</td>\n",
       "    </tr>\n",
       "    <tr>\n",
       "      <th>1</th>\n",
       "      <td>1/2 OF MEC REFRIGERA</td>\n",
       "      <td>20</td>\n",
       "    </tr>\n",
       "    <tr>\n",
       "      <th>2</th>\n",
       "      <td>1/2 OFICIAL ELETRICA</td>\n",
       "      <td>30</td>\n",
       "    </tr>\n",
       "    <tr>\n",
       "      <th>3</th>\n",
       "      <td>1/2 OFICIAL POLIVALE</td>\n",
       "      <td>48</td>\n",
       "    </tr>\n",
       "    <tr>\n",
       "      <th>4</th>\n",
       "      <td>1/2 OFICIAL REFRIGER</td>\n",
       "      <td>31</td>\n",
       "    </tr>\n",
       "    <tr>\n",
       "      <th>...</th>\n",
       "      <td>...</td>\n",
       "      <td>...</td>\n",
       "    </tr>\n",
       "    <tr>\n",
       "      <th>327</th>\n",
       "      <td>TELHADISTA</td>\n",
       "      <td>32</td>\n",
       "    </tr>\n",
       "    <tr>\n",
       "      <th>328</th>\n",
       "      <td>TELHADISTA II</td>\n",
       "      <td>27</td>\n",
       "    </tr>\n",
       "    <tr>\n",
       "      <th>329</th>\n",
       "      <td>TORNEIRO MECANICO</td>\n",
       "      <td>54</td>\n",
       "    </tr>\n",
       "    <tr>\n",
       "      <th>330</th>\n",
       "      <td>TRATORISTA</td>\n",
       "      <td>49</td>\n",
       "    </tr>\n",
       "    <tr>\n",
       "      <th>331</th>\n",
       "      <td>VIGIA DE OBRA</td>\n",
       "      <td>44</td>\n",
       "    </tr>\n",
       "  </tbody>\n",
       "</table>\n",
       "<p>332 rows × 2 columns</p>\n",
       "</div>"
      ],
      "text/plain": [
       "                    Cargo  Idade\n",
       "0    1/2 OF DE MANUTENCAO     38\n",
       "1    1/2 OF MEC REFRIGERA     20\n",
       "2    1/2 OFICIAL ELETRICA     30\n",
       "3    1/2 OFICIAL POLIVALE     48\n",
       "4    1/2 OFICIAL REFRIGER     31\n",
       "..                    ...    ...\n",
       "327            TELHADISTA     32\n",
       "328         TELHADISTA II     27\n",
       "329     TORNEIRO MECANICO     54\n",
       "330            TRATORISTA     49\n",
       "331         VIGIA DE OBRA     44\n",
       "\n",
       "[332 rows x 2 columns]"
      ]
     },
     "execution_count": 22,
     "metadata": {},
     "output_type": "execute_result"
    }
   ],
   "source": [
    "df_contratação_ideial"
   ]
  },
  {
   "cell_type": "code",
   "execution_count": 23,
   "metadata": {},
   "outputs": [],
   "source": [
    "df = pd.read_csv('Análise_predição_desligados.csv', sep=',')"
   ]
  },
  {
   "cell_type": "code",
   "execution_count": 24,
   "metadata": {},
   "outputs": [
    {
     "data": {
      "text/plain": [
       "Estado\n",
       "SP    8033\n",
       "MG    2041\n",
       "MT    1060\n",
       "RJ    1038\n",
       "PR     664\n",
       "GO     316\n",
       "BA     294\n",
       "MS     243\n",
       "ES     241\n",
       "RS     229\n",
       "PE     128\n",
       "TO      86\n",
       "SC      86\n",
       "PA      79\n",
       "MA      26\n",
       "DF      20\n",
       "SE      19\n",
       "RN      16\n",
       "CE       6\n",
       "AL       4\n",
       "PB       4\n",
       "AM       4\n",
       "RO       2\n",
       "AC       1\n",
       "Name: count, dtype: int64"
      ]
     },
     "execution_count": 24,
     "metadata": {},
     "output_type": "execute_result"
    }
   ],
   "source": [
    "df['Estado'].value_counts()"
   ]
  },
  {
   "cell_type": "code",
   "execution_count": 25,
   "metadata": {},
   "outputs": [
    {
     "data": {
      "text/plain": [
       "Estado\n",
       "SP    8033\n",
       "MG    2041\n",
       "MT    1060\n",
       "RJ    1038\n",
       "PR     664\n",
       "GO     316\n",
       "BA     294\n",
       "MS     243\n",
       "ES     241\n",
       "RS     229\n",
       "PE     128\n",
       "TO      86\n",
       "SC      86\n",
       "PA      79\n",
       "MA      26\n",
       "DF      20\n",
       "SE      19\n",
       "RN      16\n",
       "CE       6\n",
       "AL       4\n",
       "PB       4\n",
       "AM       4\n",
       "RO       2\n",
       "AC       1\n",
       "Name: count, dtype: int64"
      ]
     },
     "execution_count": 25,
     "metadata": {},
     "output_type": "execute_result"
    }
   ],
   "source": [
    "df_filter_critico = df[['Cargo', 'Estado']]\n",
    "\n",
    "df_filter_critico['Estado'].value_counts()"
   ]
  }
 ],
 "metadata": {
  "kernelspec": {
   "display_name": "fm2c",
   "language": "python",
   "name": "python3"
  },
  "language_info": {
   "codemirror_mode": {
    "name": "ipython",
    "version": 3
   },
   "file_extension": ".py",
   "mimetype": "text/x-python",
   "name": "python",
   "nbconvert_exporter": "python",
   "pygments_lexer": "ipython3",
   "version": "3.12.0"
  }
 },
 "nbformat": 4,
 "nbformat_minor": 2
}
